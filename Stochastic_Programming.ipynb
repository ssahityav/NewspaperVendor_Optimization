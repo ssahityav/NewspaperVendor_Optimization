{
 "cells": [
  {
   "cell_type": "markdown",
   "metadata": {},
   "source": [
    "# <center> Optimization </center>\n",
    "## <center> Stochastic Programming"
   ]
  },
  {
   "cell_type": "code",
   "execution_count": 1,
   "metadata": {
    "colab": {
     "base_uri": "https://localhost:8080/"
    },
    "id": "_gta76-yzgfJ",
    "outputId": "1e6e651c-3e38-4fdb-b551-2fe03c3a1fca"
   },
   "outputs": [
    {
     "name": "stdout",
     "output_type": "stream",
     "text": [
      "Requirement already satisfied: gurobipy in c:\\users\\ssahi\\anaconda3\\lib\\site-packages (9.5.1)\n"
     ]
    }
   ],
   "source": [
    "!pip install gurobipy\n",
    "import pandas as pd\n",
    "import numpy as np\n",
    "import gurobipy as gp\n",
    "from sklearn.linear_model import LinearRegression\n",
    "import matplotlib.pyplot as plt\n",
    "import seaborn as sns"
   ]
  },
  {
   "cell_type": "code",
   "execution_count": 2,
   "metadata": {},
   "outputs": [],
   "source": [
    "import warnings\n",
    "warnings.filterwarnings(\"ignore\")"
   ]
  },
  {
   "cell_type": "code",
   "execution_count": 3,
   "metadata": {
    "colab": {
     "base_uri": "https://localhost:8080/",
     "height": 206
    },
    "id": "wHzZWdIrF4Ra",
    "outputId": "21a252ca-663d-46cf-adb7-3cc5b225a848"
   },
   "outputs": [
    {
     "data": {
      "text/html": [
       "<div>\n",
       "<style scoped>\n",
       "    .dataframe tbody tr th:only-of-type {\n",
       "        vertical-align: middle;\n",
       "    }\n",
       "\n",
       "    .dataframe tbody tr th {\n",
       "        vertical-align: top;\n",
       "    }\n",
       "\n",
       "    .dataframe thead th {\n",
       "        text-align: right;\n",
       "    }\n",
       "</style>\n",
       "<table border=\"1\" class=\"dataframe\">\n",
       "  <thead>\n",
       "    <tr style=\"text-align: right;\">\n",
       "      <th></th>\n",
       "      <th>price</th>\n",
       "      <th>demand</th>\n",
       "    </tr>\n",
       "  </thead>\n",
       "  <tbody>\n",
       "    <tr>\n",
       "      <th>0</th>\n",
       "      <td>1.05</td>\n",
       "      <td>283</td>\n",
       "    </tr>\n",
       "    <tr>\n",
       "      <th>1</th>\n",
       "      <td>0.86</td>\n",
       "      <td>771</td>\n",
       "    </tr>\n",
       "    <tr>\n",
       "      <th>2</th>\n",
       "      <td>1.21</td>\n",
       "      <td>185</td>\n",
       "    </tr>\n",
       "    <tr>\n",
       "      <th>3</th>\n",
       "      <td>0.94</td>\n",
       "      <td>531</td>\n",
       "    </tr>\n",
       "    <tr>\n",
       "      <th>4</th>\n",
       "      <td>0.76</td>\n",
       "      <td>1002</td>\n",
       "    </tr>\n",
       "  </tbody>\n",
       "</table>\n",
       "</div>"
      ],
      "text/plain": [
       "   price  demand\n",
       "0   1.05     283\n",
       "1   0.86     771\n",
       "2   1.21     185\n",
       "3   0.94     531\n",
       "4   0.76    1002"
      ]
     },
     "execution_count": 3,
     "metadata": {},
     "output_type": "execute_result"
    }
   ],
   "source": [
    "df = pd.read_csv('price_demand_data.csv')\n",
    "\n",
    "df.head()"
   ]
  },
  {
   "cell_type": "markdown",
   "metadata": {},
   "source": [
    "## PART A"
   ]
  },
  {
   "cell_type": "markdown",
   "metadata": {
    "id": "tULw8hZaGklo"
   },
   "source": [
    "### Fit linear regression to price demand data and determine residuals associated with the linear regression model"
   ]
  },
  {
   "cell_type": "code",
   "execution_count": 4,
   "metadata": {
    "id": "RNREmZDkGI02"
   },
   "outputs": [],
   "source": [
    "X = df.price.to_numpy().reshape(-1,1)\n",
    "y = df.demand.to_numpy().reshape(-1,1)\n",
    "\n",
    "lr = LinearRegression()\n",
    "\n",
    "lr.fit(X, y)\n",
    "\n",
    "pred = lr.predict(X)\n",
    "\n",
    "# residuals between predicted demand and actual demand\n",
    "resid = y - pred\n"
   ]
  },
  {
   "cell_type": "markdown",
   "metadata": {
    "id": "k-4vtF_KPD4_"
   },
   "source": [
    "#### When price is $1"
   ]
  },
  {
   "cell_type": "code",
   "execution_count": 5,
   "metadata": {
    "id": "OhP3C_8qIS24"
   },
   "outputs": [],
   "source": [
    "# regular printing cost\n",
    "c = 0.5\n",
    "# rush order printing cost\n",
    "g = 0.75\n",
    "# disposal cost\n",
    "t = 0.15\n",
    "# price\n",
    "p = 1\n",
    "\n",
    "# Predicted demand when price = 1:\n",
    "pred_demand_1 = lr.predict(np.ones(len(resid)).reshape(-1, 1))\n",
    "\n",
    "# Create a distribution of demand with price = $1 using residuals\n",
    "demand_1 = pred_demand_1 + resid\n",
    "\n",
    "# Number of days\n",
    "nday = len(demand_1)"
   ]
  },
  {
   "cell_type": "code",
   "execution_count": 17,
   "metadata": {},
   "outputs": [
    {
     "data": {
      "image/png": "[encoded data removed]",
      "text/plain": [
       "<Figure size 576x576 with 1 Axes>"
      ]
     },
     "metadata": {
      "needs_background": "light"
     },
     "output_type": "display_data"
    }
   ],
   "source": [
    "g = sns.FacetGrid(df, size = 8)\n",
    "g = g.map(plt.scatter, 'price', 'demand', edgecolor=\"w\")\n",
    "y_plot = lr.intercept_ + lr.coef_ * X\n",
    "plt.plot(X, y_plot, color='r')\n",
    "plt.title('Price vs. Demand')\n",
    "plt.show()"
   ]
  },
  {
   "cell_type": "markdown",
   "metadata": {},
   "source": [
    "## PART B"
   ]
  },
  {
   "cell_type": "markdown",
   "metadata": {},
   "source": [
    "### Finding the Optimal Quantity to Print (Given Price)"
   ]
  },
  {
   "cell_type": "code",
   "execution_count": 6,
   "metadata": {
    "id": "wI3bSaUVPvZe"
   },
   "outputs": [],
   "source": [
    "'''\n",
    "We are optimizing a single quantity--Q such that each day's profit--H is being maximized\n",
    "\n",
    "In other words, our decision variables are:\n",
    "\n",
    "Q, H1, ... ,H_nday\n",
    "\n",
    "For each day ranging from 1 to nday, it is subject to the following conditions:\n",
    "\n",
    "q * [c-g] + h <= p*Di - g*Di when Di >= q\n",
    "\n",
    "q * [c+t] + h <= p*Di + t*Di when Di < q\n",
    "\n",
    "\n",
    "'''\n",
    "\n",
    "# Objective function\n",
    "obj = np.zeros(nday + 1)\n",
    "obj[1:] = 1.0/nday\n",
    "\n",
    "# Set lower bounds\n",
    "lb = np.zeros(nday + 1)\n",
    "lb[1:] = -np.inf\n",
    "\n",
    "# Direction of constraints\n",
    "direction = np.array(['<'] * (2*nday))\n",
    "\n",
    "# Initiate constraint matrix A as well as its rhs\n",
    "rhs = np.zeros(2*nday)\n",
    "A = np.zeros((2*nday, nday+1))\n",
    "\n",
    "# Fill in the constraint matirx A:\n",
    "for i in range(nday):\n",
    "\n",
    "  A[2*i, [0, 1+i]] = [(c-g), 1]\n",
    "  rhs[2*i] = (p-g) * demand_1[i]\n",
    "\n",
    "  A[2*i + 1, [0, 1+i]] = [(c+t), 1]\n",
    "  rhs[2*i + 1] = (p+t) * demand_1[i]\n",
    "\n",
    "\n",
    "var_type = ['I'] + ['C'] * nday"
   ]
  },
  {
   "cell_type": "code",
   "execution_count": 7,
   "metadata": {
    "id": "lAhuVqGVTCdV"
   },
   "outputs": [
    {
     "name": "stdout",
     "output_type": "stream",
     "text": [
      "Set parameter Username\n",
      "Academic license - for non-commercial use only - expires 2022-08-27\n"
     ]
    }
   ],
   "source": [
    "#Optimize\n",
    "\n",
    "spMod = gp.Model()\n",
    "spMod_x = spMod.addMVar(len(obj),lb=lb,vtype = var_type) # tell the model how many variables there are\n",
    "# must define the variables before adding constraints because variables go into the constraints\n",
    "spMod_con = spMod.addMConstrs(A, spMod_x, direction, rhs) # NAME THE CONSTRAINTS!!! so we can get information about them later!\n",
    "spMod.setMObjective(None,obj,0,sense=gp.GRB.MAXIMIZE) # add the objective to the model...we'll talk about the None and the 0\n",
    "\n",
    "spMod.Params.OutputFlag = 0 # tell gurobi to shut up!!\n",
    "spMod.optimize()\n"
   ]
  },
  {
   "cell_type": "code",
   "execution_count": 8,
   "metadata": {
    "colab": {
     "base_uri": "https://localhost:8080/"
    },
    "id": "5EHIvqnMZVdD",
    "outputId": "2fc56624-dd20-49b9-e472-31e5ffafe814"
   },
   "outputs": [
    {
     "name": "stdout",
     "output_type": "stream",
     "text": [
      "The optimal quantity to order is 472.0 which results in an expected profit of $231.48 per day\n"
     ]
    }
   ],
   "source": [
    "print('The optimal quantity to order is {} which results in an expected profit of ${} per day'.format(\\\n",
    "                                               spMod_x.x[0], round(spMod.objval,2)))\n"
   ]
  },
  {
   "cell_type": "markdown",
   "metadata": {},
   "source": [
    "## PART C"
   ]
  },
  {
   "cell_type": "markdown",
   "metadata": {},
   "source": [
    "### Steps to Finding the Optimal Quantity to Print (When Price Influences Demand)"
   ]
  },
  {
   "cell_type": "code",
   "execution_count": 9,
   "metadata": {
    "colab": {
     "base_uri": "https://localhost:8080/"
    },
    "id": "52GixUOlagCW",
    "outputId": "018ea8eb-b341-4fb3-d2cd-1089a8a5a672"
   },
   "outputs": [],
   "source": [
    "'''\n",
    "We are optimizing over both P and Q to find an equilibrium point.\n",
    "\n",
    "To do so we maximize the profit of the business where,\n",
    "     profit = Sales - Cost = Sales + (-Cost) = p * D_i + H\n",
    "\n",
    "To be more specific:\n",
    "\n",
    "p * D_i = p * (b0 + b1*p + e_i) = p*b1*p + p*(b0 + e_i)\n",
    "\n",
    "H_i  = - [q*c + g*(D_i - q)' + t*(q - D_i)']\n",
    "     = - {q*c + g*[(b0 + b1*p + e_i) - q]' + t*[q - (b0 + b1*p + e_i)]'}\n",
    "\n",
    "With the Quadratic term being: \n",
    "                              p*b1*p\n",
    "\n",
    "and the Linear term being: \n",
    "      p*(b0 + e) - {q*c + g*[(b0 + b1*p + e) - q]' + t*[q - (b0 + b1*p + e)]'}\n",
    "\n",
    "\n",
    "Therefore, our decision variables are:\n",
    "P, Q, H1, H2, ..., H_nday\n",
    "\n",
    "\n",
    "subjects to the constraints (per day i/ each residual):\n",
    "\n",
    "           H_i  <= - [q*c + g*(D_i - q)' + t*(q - D_i)']\n",
    "                           or\n",
    "     H_i  <= - {q*c + g*[(b0 + b1*p + e_i) - q]' + t*[q - (b0 + b1*p + e_i)]'}\n",
    "\n",
    "\n",
    "Restated as follow:\n",
    "\n",
    "When Di >= q:\n",
    "\n",
    "Hi <= -q*c - g*(Di-q) = -q*c - g*((b0 + b1*p + e_i)-q)\n",
    "\n",
    "Hi + (c-g)*q + g*b1*p <= -g*b0 - g*ei\n",
    "\n",
    "\n",
    "When Di < q:\n",
    "\n",
    "Hi <= -q*c - t*(q-Di) = -q*c - t*(q-(b0 + b1*p + e_i))\n",
    "\n",
    "Hi + (c+t)*q - t*b1*p <= t*b0 + t*ei\n",
    "\n",
    "'''\n",
    "# regular printing cost\n",
    "c = 0.5\n",
    "# rush order printing cost\n",
    "g = 0.75\n",
    "# disposal cost\n",
    "t = 0.15\n",
    "# Number of days\n",
    "nday = len(resid)\n",
    "\n",
    "b0 = lr.intercept_\n",
    "b1 = lr.coef_\n",
    "\n",
    "# Initiate objective for the linear term\n",
    "obj_linear = np.zeros(nday + 2)\n",
    "obj_linear[[0 ,1]] = [b0+np.mean(resid), 0]\n",
    "obj_linear[2:] = 1.0 / nday\n",
    "\n",
    "#Initiate objective for the quadratic term\n",
    "obj_quad =  np.zeros((nday + 2, nday + 2))\n",
    "obj_quad[0,0] = b1\n",
    "\n",
    "# Set upper bounds\n",
    "ub = np.zeros(nday + 2)\n",
    "ub[:2] = np.inf\n",
    "ub[2:] = 0 # negative costs are always negative\n",
    "\n",
    "# Set lower bounds\n",
    "lb = np.zeros(nday + 2)\n",
    "lb[2:] = -np.inf\n",
    "\n",
    "# Initiate constraint matrix\n",
    "A = np.zeros((nday*2, nday+2))\n",
    "rhs = np.zeros(nday*2)\n",
    "dir = np.array(['<'] * nday*2)\n",
    "\n",
    "# Set up constraints accordingly\n",
    "for i in range(nday):\n",
    "\n",
    "  # g*b1*p + (c-g)*q + Hi  <= -g*b0 - g*ei\n",
    "  A[2*i, [0, 1, 2+i]] = [g*b1, (c-g), 1]\n",
    "  rhs[2*i] = -g*b0 - g*resid[i]\n",
    "\n",
    "  # - t*b1*p + (c+t)*q + Hi  <= t*b0 + t*ei\n",
    "  A[2*i + 1, [0, 1, 2+i]] = [-t*b1, (c+t), 1]\n",
    "  rhs[2*i + 1] = t*b0 + t*resid[i]\n",
    "\n",
    "var_type = ['C','I'] + ['C'] * nday\n",
    "\n",
    "#Optimize\n",
    "\n",
    "spMod2 = gp.Model()\n",
    "spMod2_x = spMod2.addMVar(len(obj_linear),lb=lb, ub=ub,vtype=var_type) # tell the model how many variables there are\n",
    "# must define the variables before adding constraints because variables go into the constraints\n",
    "spMod2_con = spMod2.addMConstrs(A, spMod2_x, dir, rhs) # NAME THE CONSTRAINTS!!! so we can get information about them later!\n",
    "spMod2.setMObjective(obj_quad,obj_linear,0,sense=gp.GRB.MAXIMIZE) # add the objective to the model...we'll talk about the None and the 0\n",
    "\n",
    "spMod2.Params.OutputFlag = 0 # tell gurobi to shut up!!\n",
    "spMod2.optimize()"
   ]
  },
  {
   "cell_type": "code",
   "execution_count": 10,
   "metadata": {
    "colab": {
     "base_uri": "https://localhost:8080/"
    },
    "id": "wFMMe_xXagHR",
    "outputId": "aa7bc4fd-7438-4d52-ecf8-8dcdc5a35714"
   },
   "outputs": [
    {
     "name": "stdout",
     "output_type": "stream",
     "text": [
      "The optimal price is $0.95 and optimal quantity to order is 535.0 which results in an expected profit of $234.42 per day\n"
     ]
    }
   ],
   "source": [
    "print('The optimal price is ${} and optimal quantity to order is {} \\\n",
    "which results in an expected profit of ${} per day'.format(\\\n",
    "           round(spMod2_x.x[0],2), spMod2_x.x[1], round(spMod2.objval,2)))"
   ]
  },
  {
   "cell_type": "markdown",
   "metadata": {},
   "source": [
    "## PART D"
   ]
  },
  {
   "cell_type": "markdown",
   "metadata": {
    "id": "sPz5GVlFdm92"
   },
   "source": [
    "### Take bootstrap sample and re-optimize to figure out optimal price and quantity to order"
   ]
  },
  {
   "cell_type": "code",
   "execution_count": 11,
   "metadata": {
    "id": "l0qtIKh0agJe"
   },
   "outputs": [],
   "source": [
    "# Write a function to automate the optimization process\n",
    "\n",
    "def optimize(df, n=1):\n",
    "\n",
    "  # Randomly select rows with replacment: bootstraping \n",
    "  ind = np.random.choice(np.arange(99), replace=True, size=len(df)*n).tolist()\n",
    "\n",
    "  # Extract sample\n",
    "  sample = df.loc[ind,:]\n",
    "\n",
    "  # Fit linear regression, extract residuals and coefficients \n",
    "  X = sample.price.to_numpy().reshape(-1,1)\n",
    "  y = sample.demand.to_numpy().reshape(-1,1)\n",
    "\n",
    "  lr = LinearRegression()\n",
    "  lr.fit(X, y)\n",
    "  pred = lr.predict(X)\n",
    "\n",
    "  # residuals between predicted demand and actual demand\n",
    "  resid = y - pred\n",
    "\n",
    "  # regular printing cost\n",
    "  c = 0.5\n",
    "  # rush order printing cost\n",
    "  g = 0.75\n",
    "  # disposal cost\n",
    "  t = 0.15\n",
    "  # Number of days\n",
    "  nday = len(resid)\n",
    "\n",
    "  b0 = lr.intercept_\n",
    "  b1 = lr.coef_\n",
    "\n",
    "  # Initiate objective for the linear term\n",
    "  obj_linear = np.zeros(nday + 2)\n",
    "  obj_linear[[0 ,1]] = [b0+np.mean(resid), 0]\n",
    "  obj_linear[2:] = 1.0 / nday\n",
    "\n",
    "  #Initiate objective for the quadratic term\n",
    "  obj_quad =  np.zeros((nday + 2, nday + 2))\n",
    "  obj_quad[0,0] = b1\n",
    "\n",
    "  # Set upper bounds\n",
    "  ub = np.zeros(nday + 2)\n",
    "  ub[:2] = np.inf\n",
    "  ub[2:] = 0 # negative costs are always negative\n",
    "\n",
    "  # Set lower bounds\n",
    "  lb = np.zeros(nday + 2)\n",
    "  lb[2:] = -np.inf\n",
    "\n",
    "  # Initiate constraint matrix\n",
    "  A = np.zeros((nday*2, nday+2))\n",
    "  rhs = np.zeros(nday*2)\n",
    "  dir = np.array(['<'] * nday*2)\n",
    "\n",
    "  # Set up constraints accordingly\n",
    "  for i in range(nday):\n",
    "\n",
    "    # g*b1*p + (c-g)*q + Hi  <= -g*b0 - g*ei\n",
    "    A[2*i, [0, 1, 2+i]] = [g*b1, (c-g), 1]\n",
    "    rhs[2*i] = -g*b0 - g*resid[i]\n",
    "\n",
    "    # - t*b1*p + (c+t)*q + Hi  <= t*b0 + t*ei\n",
    "    A[2*i + 1, [0, 1, 2+i]] = [-t*b1, (c+t), 1]\n",
    "    rhs[2*i + 1] = t*b0 + t*resid[i]\n",
    "  \n",
    "  var_type = ['C','I'] + ['C'] * nday\n",
    "\n",
    "  #Optimize\n",
    "\n",
    "  spMod2 = gp.Model()\n",
    "  spMod2_x = spMod2.addMVar(len(obj_linear),lb=lb, ub=ub,vtype=var_type) # tell the model how many variables there are\n",
    "  # must define the variables before adding constraints because variables go into the constraints\n",
    "  spMod2_con = spMod2.addMConstrs(A, spMod2_x, dir, rhs) # NAME THE CONSTRAINTS!!! so we can get information about them later!\n",
    "  spMod2.setMObjective(obj_quad,obj_linear,0,sense=gp.GRB.MAXIMIZE) # add the objective to the model...we'll talk about the None and the 0\n",
    "\n",
    "  spMod2.Params.OutputFlag = 0 # tell gurobi to shut up!!\n",
    "  spMod2.optimize()\n",
    "  \n",
    "  # return price, quantity, expected return\n",
    "  return  spMod2_x.x[0], spMod2_x.x[1], spMod2.objval\n",
    "\n",
    "\n"
   ]
  },
  {
   "cell_type": "code",
   "execution_count": 12,
   "metadata": {
    "colab": {
     "base_uri": "https://localhost:8080/"
    },
    "id": "rY4cIAjnagMq",
    "outputId": "3da6a6a2-33c3-40a2-b790-fd69b9bd02bb"
   },
   "outputs": [],
   "source": [
    "optimal = pd.DataFrame(columns=['price', 'quantity', 'profit'])\n",
    "\n",
    "for i in range(1000):\n",
    "  price, quant, prof = optimize(df)\n",
    "  optimal.loc[i, :] = [price, quant, prof]"
   ]
  },
  {
   "cell_type": "code",
   "execution_count": 13,
   "metadata": {
    "colab": {
     "base_uri": "https://localhost:8080/"
    },
    "id": "ihln-VnIagPZ",
    "outputId": "5107c3f3-bf92-400a-837e-58756a4e0628"
   },
   "outputs": [
    {
     "name": "stdout",
     "output_type": "stream",
     "text": [
      "The optimal price is $0.95 and the optimal quantity is 536, which results in an expected profit of $235.24\n"
     ]
    }
   ],
   "source": [
    "print('The optimal price is ${} and the optimal quantity is {},\\\n",
    " which results in an expected profit of ${}'.format(\\\n",
    "          round(optimal.price.mean(),2), int(optimal.quantity.mean()), round(optimal.profit.mean(),2)))"
   ]
  },
  {
   "cell_type": "markdown",
   "metadata": {},
   "source": [
    "### Joint plot histogram and scatter plot of Optimal Quantity vs Price"
   ]
  },
  {
   "cell_type": "code",
   "execution_count": 14,
   "metadata": {},
   "outputs": [
    {
     "data": {
      "text/plain": [
       "Text(0.5, 0.98, 'Optimal Quantity versus Price')"
      ]
     },
     "execution_count": 14,
     "metadata": {},
     "output_type": "execute_result"
    },
    {
     "data": {
      "image/png": "[encoded data removed]",
      "text/plain": [
       "<Figure size 576x576 with 3 Axes>"
      ]
     },
     "metadata": {
      "needs_background": "light"
     },
     "output_type": "display_data"
    }
   ],
   "source": [
    "sns.jointplot(data=optimal,x='price',y='quantity',height=8,ratio=2,marginal_ticks=True)\n",
    "plt.suptitle('Optimal Quantity versus Price')"
   ]
  },
  {
   "cell_type": "markdown",
   "metadata": {},
   "source": [
    "### Expected Profits"
   ]
  },
  {
   "cell_type": "code",
   "execution_count": 15,
   "metadata": {},
   "outputs": [
    {
     "data": {
      "text/plain": [
       "Text(0.5, 1.0, 'Expected Profits')"
      ]
     },
     "execution_count": 15,
     "metadata": {},
     "output_type": "execute_result"
    },
    {
     "data": {
      "image/png": "[encoded data removed]",
      "text/plain": [
       "<Figure size 720x360 with 1 Axes>"
      ]
     },
     "metadata": {
      "needs_background": "light"
     },
     "output_type": "display_data"
    }
   ],
   "source": [
    "plt.figure(figsize=(10,5))\n",
    "sns.histplot(data=optimal, x=\"profit\",bins=40)\n",
    "plt.title('Expected Profits')"
   ]
  },
  {
   "cell_type": "markdown",
   "metadata": {},
   "source": [
    "## END-OF-CODE"
   ]
  }
 ],
 "metadata": {
  "colab": {
   "collapsed_sections": [],
   "name": "project1_v1.ipynb",
   "provenance": []
  },
  "kernelspec": {
   "display_name": "Python 3",
   "language": "python",
   "name": "python3"
  },
  "language_info": {
   "codemirror_mode": {
    "name": "ipython",
    "version": 3
   },
   "file_extension": ".py",
   "mimetype": "text/x-python",
   "name": "python",
   "nbconvert_exporter": "python",
   "pygments_lexer": "ipython3",
   "version": "3.8.8"
  }
 },
 "nbformat": 4,
 "nbformat_minor": 1
}
